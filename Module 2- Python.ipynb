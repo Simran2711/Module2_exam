{
 "cells": [
  {
   "cell_type": "code",
   "execution_count": 36,
   "id": "43ce2e7f",
   "metadata": {},
   "outputs": [
    {
     "name": "stdout",
     "output_type": "stream",
     "text": [
      "enter hours:3\n",
      "hours in sec: 10800\n",
      "enter minutes:5\n",
      "mint in sec 300\n",
      "3 hours and 5 minutes are total 11100 seconds\n"
     ]
    }
   ],
   "source": [
    "#Q.1) Convert given hrs & mins in second\n",
    "\n",
    "hr=int(input(\"enter hours:\"))\n",
    "print(\"hours in sec:\", (hr*3600))\n",
    "mint=int(input(\"enter minutes:\"))\n",
    "print(\"mint in sec\", mint*60)\n",
    "sec=(hr*3600)+(mint*60)\n",
    "print(hr,\"hours and\",mint,\"minutes are total\",sec,\"seconds\")"
   ]
  },
  {
   "cell_type": "code",
   "execution_count": 12,
   "id": "17ad5bbc",
   "metadata": {},
   "outputs": [],
   "source": [
    "#Q.2) Write code to find the average of ‘n’ numbers entered by the user to function avg ( ).\n",
    "\n",
    "def avg(a,b,c,d=0):\n",
    "    b=a+b+c+d/4\n",
    "    return print(b)"
   ]
  },
  {
   "cell_type": "code",
   "execution_count": 13,
   "id": "f081a53e",
   "metadata": {},
   "outputs": [
    {
     "name": "stdout",
     "output_type": "stream",
     "text": [
      "70.0\n"
     ]
    }
   ],
   "source": [
    "avg(10,20,30,40)"
   ]
  },
  {
   "cell_type": "code",
   "execution_count": 71,
   "id": "218ad136",
   "metadata": {},
   "outputs": [
    {
     "name": "stdout",
     "output_type": "stream",
     "text": [
      "1\n",
      "10\n",
      "101\n",
      "1010\n",
      "10101\n"
     ]
    }
   ],
   "source": [
    "#Q.3) Print\n",
    "\n",
    "for i in range(1,6):\n",
    "    for j in range(1,i+1):\n",
    "        print(j%2,end='')\n",
    "    print()"
   ]
  },
  {
   "cell_type": "code",
   "execution_count": 35,
   "id": "6a1a0dea",
   "metadata": {},
   "outputs": [
    {
     "name": "stdout",
     "output_type": "stream",
     "text": [
      "enter the digit: 4\n",
      "entered digit : four\n"
     ]
    }
   ],
   "source": [
    "#Q.4) Write a code to accept a number & print in words.\n",
    "\n",
    "n=int(input(\"enter the digit: \"))\n",
    "print(\"entered digit :\", end=' ')\n",
    "if n==0:\n",
    "    print('zero')\n",
    "elif n==1:\n",
    "    print('one')\n",
    "elif n==2:\n",
    "    print('two')\n",
    "elif n==3:\n",
    "    print('three')\n",
    "elif n==4:\n",
    "    print('fo\n",
    "    print('invalid')\n"
   ]
  },
  {
   "cell_type": "code",
   "execution_count": 59,
   "id": "d6885542",
   "metadata": {},
   "outputs": [],
   "source": [
    "#Q.5) Create class \n",
    "\n",
    "class Maths:\n",
    "    def __int__(self,a,b):\n",
    "        self.a=a\n",
    "        self.b=b\n",
    "    def Add(self):\n",
    "        print('Addition is: ',(self.a)+(self.b))\n",
    "    def div(self):\n",
    "        print('Division is: ',(self.a)/(self.b))\n",
    "    def sub(self):\n",
    "        print('Subtraction is: ',(self.a)-(self.b))\n",
    "    def mul(self):\n",
    "        print('Multiplication is: ',(self.a)*(self.b))\n",
    "\n",
    "\n"
   ]
  },
  {
   "cell_type": "code",
   "execution_count": 61,
   "id": "1a9ce4ca",
   "metadata": {},
   "outputs": [],
   "source": [
    "x=Maths()"
   ]
  },
  {
   "cell_type": "code",
   "execution_count": 63,
   "id": "9a2ab1e6",
   "metadata": {},
   "outputs": [
    {
     "ename": "TypeError",
     "evalue": "Add() takes 1 positional argument but 3 were given",
     "output_type": "error",
     "traceback": [
      "\u001b[1;31m---------------------------------------------------------------------------\u001b[0m",
      "\u001b[1;31mTypeError\u001b[0m                                 Traceback (most recent call last)",
      "\u001b[1;32m~\\AppData\\Local\\Temp/ipykernel_12128/1399268723.py\u001b[0m in \u001b[0;36m<module>\u001b[1;34m\u001b[0m\n\u001b[1;32m----> 1\u001b[1;33m \u001b[0mx\u001b[0m\u001b[1;33m.\u001b[0m\u001b[0mAdd\u001b[0m\u001b[1;33m(\u001b[0m\u001b[1;36m12\u001b[0m\u001b[1;33m,\u001b[0m\u001b[1;36m4\u001b[0m\u001b[1;33m)\u001b[0m\u001b[1;33m\u001b[0m\u001b[1;33m\u001b[0m\u001b[0m\n\u001b[0m",
      "\u001b[1;31mTypeError\u001b[0m: Add() takes 1 positional argument but 3 were given"
     ]
    }
   ],
   "source": [
    "x.Add(12,4)"
   ]
  },
  {
   "cell_type": "code",
   "execution_count": 69,
   "id": "c5967052",
   "metadata": {},
   "outputs": [
    {
     "name": "stdout",
     "output_type": "stream",
     "text": [
      "enter a string: Simran@123\n",
      "Letters 1\n",
      "Digits 0\n",
      "Symbols 0\n",
      "Letters 2\n",
      "Digits 0\n",
      "Symbols 0\n",
      "Letters 3\n",
      "Digits 0\n",
      "Symbols 0\n",
      "Letters 4\n",
      "Digits 0\n",
      "Symbols 0\n",
      "Letters 5\n",
      "Digits 0\n",
      "Symbols 0\n",
      "Letters 6\n",
      "Digits 0\n",
      "Symbols 0\n",
      "Letters 6\n",
      "Digits 0\n",
      "Symbols 1\n",
      "Letters 6\n",
      "Digits 1\n",
      "Symbols 1\n",
      "Letters 6\n",
      "Digits 2\n",
      "Symbols 1\n",
      "Letters 6\n",
      "Digits 3\n",
      "Symbols 1\n"
     ]
    }
   ],
   "source": [
    "#Q.6) Read file & count numbers of digit alphabets & symbols\n",
    "\n",
    "a= input(\"enter a string: \")\n",
    "d=l=s=0\n",
    "for c in a:\n",
    "    if c.isdigit():\n",
    "        d=d+1\n",
    "    elif c.isalpha():\n",
    "        l=l+1\n",
    "    else:\n",
    "        s=s+1\n",
    "    print(\"Letters\",l)\n",
    "    print(\"Digits\", d)\n",
    "    print(\"Symbols\", s)"
   ]
  },
  {
   "cell_type": "code",
   "execution_count": 39,
   "id": "8c3fbe55",
   "metadata": {},
   "outputs": [
    {
     "name": "stdout",
     "output_type": "stream",
     "text": [
      "1\n",
      "33\n",
      "555\n",
      "6666\n",
      "77777\n"
     ]
    }
   ],
   "source": [
    "#Q.8) Print\n",
    "#1\n",
    "#3 3\n",
    "#5 5 5\n",
    "#6 6 6 6\n",
    "#7 7 7 7 7\n",
    "\n",
    "a='13567'\n",
    "for i in range(0,len(a)):\n",
    "    print(a[i]*(i+1))\n",
    "  \n"
   ]
  },
  {
   "cell_type": "code",
   "execution_count": 40,
   "id": "9c9ac998",
   "metadata": {},
   "outputs": [
    {
     "name": "stdout",
     "output_type": "stream",
     "text": [
      "enter a string: Simran\n",
      "irn\n"
     ]
    }
   ],
   "source": [
    "#Q.9) Accept String & print only alternate characters on a string.\n",
    "\n",
    "x=input(\"enter a string: \")\n",
    "print(x[1::2])\n"
   ]
  },
  {
   "cell_type": "code",
   "execution_count": 58,
   "id": "ef414242",
   "metadata": {},
   "outputs": [
    {
     "name": "stdout",
     "output_type": "stream",
     "text": [
      "enter first num2.5\n",
      "enter second num4.7\n",
      "Enter which operation to perform?\n",
      "Enter the specific operations +,-,*,/ :-\n",
      "2.5 - 4.7 : -2.2\n"
     ]
    }
   ],
   "source": [
    "#Q.10) Create menu driven code for\n",
    "#1) Accept 2 numbers\n",
    "#2) Add\n",
    "#3) Sub\n",
    "#4) Mul\n",
    "#5) Div\n",
    "\n",
    "num1=float(input(\"enter first num\"))\n",
    "num2=float(input(\"enter second num\"))\n",
    "\n",
    "print(\"Enter which operation to perform?\")\n",
    "ch=input(\"Enter the specific operations +,-,*,/ :\")\n",
    "\n",
    "result=0\n",
    "if ch == '+':\n",
    "    result = num1+num2\n",
    "elif ch == '-':\n",
    "    result = num1-num2\n",
    "elif ch == '*':\n",
    "    result = num1*num2\n",
    "elif ch == '/':\n",
    "     result = num1/num2\n",
    "else:\n",
    "    print(\"Invalid input\")\n",
    "    \n",
    "print(num1, ch, num2, ':', result)"
   ]
  },
  {
   "cell_type": "code",
   "execution_count": null,
   "id": "c08b625b",
   "metadata": {},
   "outputs": [],
   "source": []
  }
 ],
 "metadata": {
  "kernelspec": {
   "display_name": "Python 3 (ipykernel)",
   "language": "python",
   "name": "python3"
  },
  "language_info": {
   "codemirror_mode": {
    "name": "ipython",
    "version": 3
   },
   "file_extension": ".py",
   "mimetype": "text/x-python",
   "name": "python",
   "nbconvert_exporter": "python",
   "pygments_lexer": "ipython3",
   "version": "3.9.7"
  }
 },
 "nbformat": 4,
 "nbformat_minor": 5
}
